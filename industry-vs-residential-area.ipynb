{
 "cells": [
  {
   "cell_type": "code",
   "execution_count": 1,
   "id": "66bc5693",
   "metadata": {
    "_cell_guid": "b1076dfc-b9ad-4769-8c92-a6c4dae69d19",
    "_uuid": "8f2839f25d086af736a60e9eeb907d3b93b6e0e5",
    "execution": {
     "iopub.execute_input": "2025-07-08T17:29:48.130479Z",
     "iopub.status.busy": "2025-07-08T17:29:48.130175Z",
     "iopub.status.idle": "2025-07-08T17:29:50.011092Z",
     "shell.execute_reply": "2025-07-08T17:29:50.010040Z"
    },
    "papermill": {
     "duration": 1.892552,
     "end_time": "2025-07-08T17:29:50.013724",
     "exception": false,
     "start_time": "2025-07-08T17:29:48.121172",
     "status": "completed"
    },
    "tags": []
   },
   "outputs": [
    {
     "name": "stdout",
     "output_type": "stream",
     "text": [
      "/kaggle/input/industrial-residential-air-quality-classification/City_Types.csv\n"
     ]
    }
   ],
   "source": [
    "# This Python 3 environment comes with many helpful analytics libraries installed\n",
    "# It is defined by the kaggle/python Docker image: https://github.com/kaggle/docker-python\n",
    "# For example, here's several helpful packages to load\n",
    "\n",
    "import numpy as np # linear algebra\n",
    "import pandas as pd # data processing, CSV file I/O (e.g. pd.read_csv)\n",
    "\n",
    "# Input data files are available in the read-only \"../input/\" directory\n",
    "# For example, running this (by clicking run or pressing Shift+Enter) will list all files under the input directory\n",
    "\n",
    "import os\n",
    "for dirname, _, filenames in os.walk('/kaggle/input'):\n",
    "    for filename in filenames:\n",
    "        print(os.path.join(dirname, filename))\n",
    "\n",
    "# You can write up to 20GB to the current directory (/kaggle/working/) that gets preserved as output when you create a version using \"Save & Run All\" \n",
    "# You can also write temporary files to /kaggle/temp/, but they won't be saved outside of the current session"
   ]
  },
  {
   "cell_type": "code",
   "execution_count": 2,
   "id": "e49cf7bc",
   "metadata": {
    "execution": {
     "iopub.execute_input": "2025-07-08T17:29:50.025827Z",
     "iopub.status.busy": "2025-07-08T17:29:50.025393Z",
     "iopub.status.idle": "2025-07-08T17:29:50.174875Z",
     "shell.execute_reply": "2025-07-08T17:29:50.174014Z"
    },
    "papermill": {
     "duration": 0.157145,
     "end_time": "2025-07-08T17:29:50.176499",
     "exception": false,
     "start_time": "2025-07-08T17:29:50.019354",
     "status": "completed"
    },
    "tags": []
   },
   "outputs": [],
   "source": [
    "df=pd.read_csv('/kaggle/input/industrial-residential-air-quality-classification/City_Types.csv')"
   ]
  },
  {
   "cell_type": "raw",
   "id": "97d8027f",
   "metadata": {
    "papermill": {
     "duration": 0.004872,
     "end_time": "2025-07-08T17:29:50.186726",
     "exception": false,
     "start_time": "2025-07-08T17:29:50.181854",
     "status": "completed"
    },
    "tags": []
   },
   "source": []
  },
  {
   "cell_type": "markdown",
   "id": "12f09cfd",
   "metadata": {
    "papermill": {
     "duration": 0.004831,
     "end_time": "2025-07-08T17:29:50.197106",
     "exception": false,
     "start_time": "2025-07-08T17:29:50.192275",
     "status": "completed"
    },
    "tags": []
   },
   "source": []
  },
  {
   "cell_type": "code",
   "execution_count": 3,
   "id": "f8dce9b8",
   "metadata": {
    "execution": {
     "iopub.execute_input": "2025-07-08T17:29:50.208509Z",
     "iopub.status.busy": "2025-07-08T17:29:50.208179Z",
     "iopub.status.idle": "2025-07-08T17:29:50.237655Z",
     "shell.execute_reply": "2025-07-08T17:29:50.236654Z"
    },
    "papermill": {
     "duration": 0.036813,
     "end_time": "2025-07-08T17:29:50.238980",
     "exception": false,
     "start_time": "2025-07-08T17:29:50.202167",
     "status": "completed"
    },
    "tags": []
   },
   "outputs": [
    {
     "data": {
      "text/html": [
       "<div>\n",
       "<style scoped>\n",
       "    .dataframe tbody tr th:only-of-type {\n",
       "        vertical-align: middle;\n",
       "    }\n",
       "\n",
       "    .dataframe tbody tr th {\n",
       "        vertical-align: top;\n",
       "    }\n",
       "\n",
       "    .dataframe thead th {\n",
       "        text-align: right;\n",
       "    }\n",
       "</style>\n",
       "<table border=\"1\" class=\"dataframe\">\n",
       "  <thead>\n",
       "    <tr style=\"text-align: right;\">\n",
       "      <th></th>\n",
       "      <th>Date</th>\n",
       "      <th>City</th>\n",
       "      <th>CO</th>\n",
       "      <th>NO2</th>\n",
       "      <th>SO2</th>\n",
       "      <th>O3</th>\n",
       "      <th>PM2.5</th>\n",
       "      <th>PM10</th>\n",
       "      <th>Type</th>\n",
       "    </tr>\n",
       "  </thead>\n",
       "  <tbody>\n",
       "    <tr>\n",
       "      <th>0</th>\n",
       "      <td>2024-01-01 00:00:00+00:00</td>\n",
       "      <td>Moscow</td>\n",
       "      <td>208.0</td>\n",
       "      <td>15.9</td>\n",
       "      <td>13.2</td>\n",
       "      <td>44.0</td>\n",
       "      <td>8.6</td>\n",
       "      <td>9.4</td>\n",
       "      <td>Industrial</td>\n",
       "    </tr>\n",
       "    <tr>\n",
       "      <th>1</th>\n",
       "      <td>2024-01-01 01:00:00+00:00</td>\n",
       "      <td>Moscow</td>\n",
       "      <td>207.0</td>\n",
       "      <td>17.4</td>\n",
       "      <td>13.7</td>\n",
       "      <td>44.0</td>\n",
       "      <td>8.6</td>\n",
       "      <td>10.5</td>\n",
       "      <td>Industrial</td>\n",
       "    </tr>\n",
       "    <tr>\n",
       "      <th>2</th>\n",
       "      <td>2024-01-01 02:00:00+00:00</td>\n",
       "      <td>Moscow</td>\n",
       "      <td>217.0</td>\n",
       "      <td>19.0</td>\n",
       "      <td>15.5</td>\n",
       "      <td>43.0</td>\n",
       "      <td>10.4</td>\n",
       "      <td>12.9</td>\n",
       "      <td>Industrial</td>\n",
       "    </tr>\n",
       "    <tr>\n",
       "      <th>3</th>\n",
       "      <td>2024-01-01 03:00:00+00:00</td>\n",
       "      <td>Moscow</td>\n",
       "      <td>231.0</td>\n",
       "      <td>21.0</td>\n",
       "      <td>20.7</td>\n",
       "      <td>36.0</td>\n",
       "      <td>12.3</td>\n",
       "      <td>15.3</td>\n",
       "      <td>Industrial</td>\n",
       "    </tr>\n",
       "    <tr>\n",
       "      <th>4</th>\n",
       "      <td>2024-01-01 04:00:00+00:00</td>\n",
       "      <td>Moscow</td>\n",
       "      <td>263.0</td>\n",
       "      <td>34.5</td>\n",
       "      <td>27.2</td>\n",
       "      <td>27.0</td>\n",
       "      <td>13.6</td>\n",
       "      <td>20.0</td>\n",
       "      <td>Industrial</td>\n",
       "    </tr>\n",
       "  </tbody>\n",
       "</table>\n",
       "</div>"
      ],
      "text/plain": [
       "                        Date    City     CO   NO2   SO2    O3  PM2.5  PM10  \\\n",
       "0  2024-01-01 00:00:00+00:00  Moscow  208.0  15.9  13.2  44.0    8.6   9.4   \n",
       "1  2024-01-01 01:00:00+00:00  Moscow  207.0  17.4  13.7  44.0    8.6  10.5   \n",
       "2  2024-01-01 02:00:00+00:00  Moscow  217.0  19.0  15.5  43.0   10.4  12.9   \n",
       "3  2024-01-01 03:00:00+00:00  Moscow  231.0  21.0  20.7  36.0   12.3  15.3   \n",
       "4  2024-01-01 04:00:00+00:00  Moscow  263.0  34.5  27.2  27.0   13.6  20.0   \n",
       "\n",
       "         Type  \n",
       "0  Industrial  \n",
       "1  Industrial  \n",
       "2  Industrial  \n",
       "3  Industrial  \n",
       "4  Industrial  "
      ]
     },
     "execution_count": 3,
     "metadata": {},
     "output_type": "execute_result"
    }
   ],
   "source": [
    "df.head(5)"
   ]
  },
  {
   "cell_type": "code",
   "execution_count": 4,
   "id": "a5ef1cdf",
   "metadata": {
    "execution": {
     "iopub.execute_input": "2025-07-08T17:29:50.251276Z",
     "iopub.status.busy": "2025-07-08T17:29:50.250965Z",
     "iopub.status.idle": "2025-07-08T17:29:50.317342Z",
     "shell.execute_reply": "2025-07-08T17:29:50.316381Z"
    },
    "papermill": {
     "duration": 0.074486,
     "end_time": "2025-07-08T17:29:50.318935",
     "exception": false,
     "start_time": "2025-07-08T17:29:50.244449",
     "status": "completed"
    },
    "tags": []
   },
   "outputs": [],
   "source": [
    "df['Date']=pd.to_datetime(df['Date'])"
   ]
  },
  {
   "cell_type": "code",
   "execution_count": 5,
   "id": "f2478b0d",
   "metadata": {
    "execution": {
     "iopub.execute_input": "2025-07-08T17:29:50.331236Z",
     "iopub.status.busy": "2025-07-08T17:29:50.330612Z",
     "iopub.status.idle": "2025-07-08T17:29:50.341718Z",
     "shell.execute_reply": "2025-07-08T17:29:50.340821Z"
    },
    "papermill": {
     "duration": 0.018839,
     "end_time": "2025-07-08T17:29:50.343319",
     "exception": false,
     "start_time": "2025-07-08T17:29:50.324480",
     "status": "completed"
    },
    "tags": []
   },
   "outputs": [],
   "source": [
    "df['Month']=df['Date'].dt.month\n",
    "df['Day']=df['Date'].dt.dayofweek"
   ]
  },
  {
   "cell_type": "code",
   "execution_count": 6,
   "id": "ff8a80ad",
   "metadata": {
    "execution": {
     "iopub.execute_input": "2025-07-08T17:29:50.355571Z",
     "iopub.status.busy": "2025-07-08T17:29:50.354810Z",
     "iopub.status.idle": "2025-07-08T17:29:50.368445Z",
     "shell.execute_reply": "2025-07-08T17:29:50.367598Z"
    },
    "papermill": {
     "duration": 0.021228,
     "end_time": "2025-07-08T17:29:50.369907",
     "exception": false,
     "start_time": "2025-07-08T17:29:50.348679",
     "status": "completed"
    },
    "tags": []
   },
   "outputs": [
    {
     "data": {
      "text/html": [
       "<div>\n",
       "<style scoped>\n",
       "    .dataframe tbody tr th:only-of-type {\n",
       "        vertical-align: middle;\n",
       "    }\n",
       "\n",
       "    .dataframe tbody tr th {\n",
       "        vertical-align: top;\n",
       "    }\n",
       "\n",
       "    .dataframe thead th {\n",
       "        text-align: right;\n",
       "    }\n",
       "</style>\n",
       "<table border=\"1\" class=\"dataframe\">\n",
       "  <thead>\n",
       "    <tr style=\"text-align: right;\">\n",
       "      <th></th>\n",
       "      <th>Date</th>\n",
       "      <th>City</th>\n",
       "      <th>CO</th>\n",
       "      <th>NO2</th>\n",
       "      <th>SO2</th>\n",
       "      <th>O3</th>\n",
       "      <th>PM2.5</th>\n",
       "      <th>PM10</th>\n",
       "      <th>Type</th>\n",
       "      <th>Month</th>\n",
       "      <th>Day</th>\n",
       "    </tr>\n",
       "  </thead>\n",
       "  <tbody>\n",
       "    <tr>\n",
       "      <th>0</th>\n",
       "      <td>2024-01-01 00:00:00+00:00</td>\n",
       "      <td>Moscow</td>\n",
       "      <td>208.0</td>\n",
       "      <td>15.9</td>\n",
       "      <td>13.2</td>\n",
       "      <td>44.0</td>\n",
       "      <td>8.6</td>\n",
       "      <td>9.4</td>\n",
       "      <td>Industrial</td>\n",
       "      <td>1</td>\n",
       "      <td>0</td>\n",
       "    </tr>\n",
       "    <tr>\n",
       "      <th>1</th>\n",
       "      <td>2024-01-01 01:00:00+00:00</td>\n",
       "      <td>Moscow</td>\n",
       "      <td>207.0</td>\n",
       "      <td>17.4</td>\n",
       "      <td>13.7</td>\n",
       "      <td>44.0</td>\n",
       "      <td>8.6</td>\n",
       "      <td>10.5</td>\n",
       "      <td>Industrial</td>\n",
       "      <td>1</td>\n",
       "      <td>0</td>\n",
       "    </tr>\n",
       "    <tr>\n",
       "      <th>2</th>\n",
       "      <td>2024-01-01 02:00:00+00:00</td>\n",
       "      <td>Moscow</td>\n",
       "      <td>217.0</td>\n",
       "      <td>19.0</td>\n",
       "      <td>15.5</td>\n",
       "      <td>43.0</td>\n",
       "      <td>10.4</td>\n",
       "      <td>12.9</td>\n",
       "      <td>Industrial</td>\n",
       "      <td>1</td>\n",
       "      <td>0</td>\n",
       "    </tr>\n",
       "    <tr>\n",
       "      <th>3</th>\n",
       "      <td>2024-01-01 03:00:00+00:00</td>\n",
       "      <td>Moscow</td>\n",
       "      <td>231.0</td>\n",
       "      <td>21.0</td>\n",
       "      <td>20.7</td>\n",
       "      <td>36.0</td>\n",
       "      <td>12.3</td>\n",
       "      <td>15.3</td>\n",
       "      <td>Industrial</td>\n",
       "      <td>1</td>\n",
       "      <td>0</td>\n",
       "    </tr>\n",
       "    <tr>\n",
       "      <th>4</th>\n",
       "      <td>2024-01-01 04:00:00+00:00</td>\n",
       "      <td>Moscow</td>\n",
       "      <td>263.0</td>\n",
       "      <td>34.5</td>\n",
       "      <td>27.2</td>\n",
       "      <td>27.0</td>\n",
       "      <td>13.6</td>\n",
       "      <td>20.0</td>\n",
       "      <td>Industrial</td>\n",
       "      <td>1</td>\n",
       "      <td>0</td>\n",
       "    </tr>\n",
       "  </tbody>\n",
       "</table>\n",
       "</div>"
      ],
      "text/plain": [
       "                       Date    City     CO   NO2   SO2    O3  PM2.5  PM10  \\\n",
       "0 2024-01-01 00:00:00+00:00  Moscow  208.0  15.9  13.2  44.0    8.6   9.4   \n",
       "1 2024-01-01 01:00:00+00:00  Moscow  207.0  17.4  13.7  44.0    8.6  10.5   \n",
       "2 2024-01-01 02:00:00+00:00  Moscow  217.0  19.0  15.5  43.0   10.4  12.9   \n",
       "3 2024-01-01 03:00:00+00:00  Moscow  231.0  21.0  20.7  36.0   12.3  15.3   \n",
       "4 2024-01-01 04:00:00+00:00  Moscow  263.0  34.5  27.2  27.0   13.6  20.0   \n",
       "\n",
       "         Type  Month  Day  \n",
       "0  Industrial      1    0  \n",
       "1  Industrial      1    0  \n",
       "2  Industrial      1    0  \n",
       "3  Industrial      1    0  \n",
       "4  Industrial      1    0  "
      ]
     },
     "execution_count": 6,
     "metadata": {},
     "output_type": "execute_result"
    }
   ],
   "source": [
    "df.head(5)"
   ]
  },
  {
   "cell_type": "code",
   "execution_count": 7,
   "id": "73f87b48",
   "metadata": {
    "execution": {
     "iopub.execute_input": "2025-07-08T17:29:50.383002Z",
     "iopub.status.busy": "2025-07-08T17:29:50.382362Z",
     "iopub.status.idle": "2025-07-08T17:29:50.397642Z",
     "shell.execute_reply": "2025-07-08T17:29:50.396709Z"
    },
    "papermill": {
     "duration": 0.023688,
     "end_time": "2025-07-08T17:29:50.399187",
     "exception": false,
     "start_time": "2025-07-08T17:29:50.375499",
     "status": "completed"
    },
    "tags": []
   },
   "outputs": [],
   "source": [
    "df.drop(columns=['Date'],inplace=True)"
   ]
  },
  {
   "cell_type": "code",
   "execution_count": 8,
   "id": "db01fe66",
   "metadata": {
    "execution": {
     "iopub.execute_input": "2025-07-08T17:29:50.411478Z",
     "iopub.status.busy": "2025-07-08T17:29:50.411169Z",
     "iopub.status.idle": "2025-07-08T17:29:50.424112Z",
     "shell.execute_reply": "2025-07-08T17:29:50.423241Z"
    },
    "papermill": {
     "duration": 0.020814,
     "end_time": "2025-07-08T17:29:50.425562",
     "exception": false,
     "start_time": "2025-07-08T17:29:50.404748",
     "status": "completed"
    },
    "tags": []
   },
   "outputs": [
    {
     "data": {
      "text/html": [
       "<div>\n",
       "<style scoped>\n",
       "    .dataframe tbody tr th:only-of-type {\n",
       "        vertical-align: middle;\n",
       "    }\n",
       "\n",
       "    .dataframe tbody tr th {\n",
       "        vertical-align: top;\n",
       "    }\n",
       "\n",
       "    .dataframe thead th {\n",
       "        text-align: right;\n",
       "    }\n",
       "</style>\n",
       "<table border=\"1\" class=\"dataframe\">\n",
       "  <thead>\n",
       "    <tr style=\"text-align: right;\">\n",
       "      <th></th>\n",
       "      <th>City</th>\n",
       "      <th>CO</th>\n",
       "      <th>NO2</th>\n",
       "      <th>SO2</th>\n",
       "      <th>O3</th>\n",
       "      <th>PM2.5</th>\n",
       "      <th>PM10</th>\n",
       "      <th>Type</th>\n",
       "      <th>Month</th>\n",
       "      <th>Day</th>\n",
       "    </tr>\n",
       "  </thead>\n",
       "  <tbody>\n",
       "    <tr>\n",
       "      <th>0</th>\n",
       "      <td>Moscow</td>\n",
       "      <td>208.0</td>\n",
       "      <td>15.9</td>\n",
       "      <td>13.2</td>\n",
       "      <td>44.0</td>\n",
       "      <td>8.6</td>\n",
       "      <td>9.4</td>\n",
       "      <td>Industrial</td>\n",
       "      <td>1</td>\n",
       "      <td>0</td>\n",
       "    </tr>\n",
       "    <tr>\n",
       "      <th>1</th>\n",
       "      <td>Moscow</td>\n",
       "      <td>207.0</td>\n",
       "      <td>17.4</td>\n",
       "      <td>13.7</td>\n",
       "      <td>44.0</td>\n",
       "      <td>8.6</td>\n",
       "      <td>10.5</td>\n",
       "      <td>Industrial</td>\n",
       "      <td>1</td>\n",
       "      <td>0</td>\n",
       "    </tr>\n",
       "    <tr>\n",
       "      <th>2</th>\n",
       "      <td>Moscow</td>\n",
       "      <td>217.0</td>\n",
       "      <td>19.0</td>\n",
       "      <td>15.5</td>\n",
       "      <td>43.0</td>\n",
       "      <td>10.4</td>\n",
       "      <td>12.9</td>\n",
       "      <td>Industrial</td>\n",
       "      <td>1</td>\n",
       "      <td>0</td>\n",
       "    </tr>\n",
       "    <tr>\n",
       "      <th>3</th>\n",
       "      <td>Moscow</td>\n",
       "      <td>231.0</td>\n",
       "      <td>21.0</td>\n",
       "      <td>20.7</td>\n",
       "      <td>36.0</td>\n",
       "      <td>12.3</td>\n",
       "      <td>15.3</td>\n",
       "      <td>Industrial</td>\n",
       "      <td>1</td>\n",
       "      <td>0</td>\n",
       "    </tr>\n",
       "    <tr>\n",
       "      <th>4</th>\n",
       "      <td>Moscow</td>\n",
       "      <td>263.0</td>\n",
       "      <td>34.5</td>\n",
       "      <td>27.2</td>\n",
       "      <td>27.0</td>\n",
       "      <td>13.6</td>\n",
       "      <td>20.0</td>\n",
       "      <td>Industrial</td>\n",
       "      <td>1</td>\n",
       "      <td>0</td>\n",
       "    </tr>\n",
       "  </tbody>\n",
       "</table>\n",
       "</div>"
      ],
      "text/plain": [
       "     City     CO   NO2   SO2    O3  PM2.5  PM10        Type  Month  Day\n",
       "0  Moscow  208.0  15.9  13.2  44.0    8.6   9.4  Industrial      1    0\n",
       "1  Moscow  207.0  17.4  13.7  44.0    8.6  10.5  Industrial      1    0\n",
       "2  Moscow  217.0  19.0  15.5  43.0   10.4  12.9  Industrial      1    0\n",
       "3  Moscow  231.0  21.0  20.7  36.0   12.3  15.3  Industrial      1    0\n",
       "4  Moscow  263.0  34.5  27.2  27.0   13.6  20.0  Industrial      1    0"
      ]
     },
     "execution_count": 8,
     "metadata": {},
     "output_type": "execute_result"
    }
   ],
   "source": [
    "df.head(5)"
   ]
  },
  {
   "cell_type": "code",
   "execution_count": 9,
   "id": "6d0f9935",
   "metadata": {
    "execution": {
     "iopub.execute_input": "2025-07-08T17:29:50.438193Z",
     "iopub.status.busy": "2025-07-08T17:29:50.437842Z",
     "iopub.status.idle": "2025-07-08T17:29:50.448009Z",
     "shell.execute_reply": "2025-07-08T17:29:50.447227Z"
    },
    "papermill": {
     "duration": 0.018042,
     "end_time": "2025-07-08T17:29:50.449409",
     "exception": false,
     "start_time": "2025-07-08T17:29:50.431367",
     "status": "completed"
    },
    "tags": []
   },
   "outputs": [
    {
     "data": {
      "text/plain": [
       "array(['Moscow', 'Delhi', 'Beijing', 'Zurich', 'Vancouver', 'Stockholm'],\n",
       "      dtype=object)"
      ]
     },
     "execution_count": 9,
     "metadata": {},
     "output_type": "execute_result"
    }
   ],
   "source": [
    "df['City'].unique()"
   ]
  },
  {
   "cell_type": "code",
   "execution_count": 10,
   "id": "5f2c70f3",
   "metadata": {
    "execution": {
     "iopub.execute_input": "2025-07-08T17:29:50.462169Z",
     "iopub.status.busy": "2025-07-08T17:29:50.461866Z",
     "iopub.status.idle": "2025-07-08T17:29:50.483051Z",
     "shell.execute_reply": "2025-07-08T17:29:50.482240Z"
    },
    "papermill": {
     "duration": 0.029429,
     "end_time": "2025-07-08T17:29:50.484678",
     "exception": false,
     "start_time": "2025-07-08T17:29:50.455249",
     "status": "completed"
    },
    "tags": []
   },
   "outputs": [],
   "source": [
    "df=pd.get_dummies(df,columns=['City'])"
   ]
  },
  {
   "cell_type": "code",
   "execution_count": 11,
   "id": "2a3b712d",
   "metadata": {
    "execution": {
     "iopub.execute_input": "2025-07-08T17:29:50.497398Z",
     "iopub.status.busy": "2025-07-08T17:29:50.497133Z",
     "iopub.status.idle": "2025-07-08T17:29:52.007133Z",
     "shell.execute_reply": "2025-07-08T17:29:52.006188Z"
    },
    "papermill": {
     "duration": 1.518271,
     "end_time": "2025-07-08T17:29:52.008781",
     "exception": false,
     "start_time": "2025-07-08T17:29:50.490510",
     "status": "completed"
    },
    "tags": []
   },
   "outputs": [],
   "source": [
    "from sklearn.preprocessing import LabelEncoder\n",
    "le=LabelEncoder()\n",
    "df['Type']=le.fit_transform(df['Type'])"
   ]
  },
  {
   "cell_type": "code",
   "execution_count": 12,
   "id": "756bd35c",
   "metadata": {
    "execution": {
     "iopub.execute_input": "2025-07-08T17:29:52.021584Z",
     "iopub.status.busy": "2025-07-08T17:29:52.021181Z",
     "iopub.status.idle": "2025-07-08T17:29:52.036960Z",
     "shell.execute_reply": "2025-07-08T17:29:52.036113Z"
    },
    "papermill": {
     "duration": 0.023888,
     "end_time": "2025-07-08T17:29:52.038431",
     "exception": false,
     "start_time": "2025-07-08T17:29:52.014543",
     "status": "completed"
    },
    "tags": []
   },
   "outputs": [
    {
     "data": {
      "text/html": [
       "<div>\n",
       "<style scoped>\n",
       "    .dataframe tbody tr th:only-of-type {\n",
       "        vertical-align: middle;\n",
       "    }\n",
       "\n",
       "    .dataframe tbody tr th {\n",
       "        vertical-align: top;\n",
       "    }\n",
       "\n",
       "    .dataframe thead th {\n",
       "        text-align: right;\n",
       "    }\n",
       "</style>\n",
       "<table border=\"1\" class=\"dataframe\">\n",
       "  <thead>\n",
       "    <tr style=\"text-align: right;\">\n",
       "      <th></th>\n",
       "      <th>CO</th>\n",
       "      <th>NO2</th>\n",
       "      <th>SO2</th>\n",
       "      <th>O3</th>\n",
       "      <th>PM2.5</th>\n",
       "      <th>PM10</th>\n",
       "      <th>Type</th>\n",
       "      <th>Month</th>\n",
       "      <th>Day</th>\n",
       "      <th>City_Beijing</th>\n",
       "      <th>City_Delhi</th>\n",
       "      <th>City_Moscow</th>\n",
       "      <th>City_Stockholm</th>\n",
       "      <th>City_Vancouver</th>\n",
       "      <th>City_Zurich</th>\n",
       "    </tr>\n",
       "  </thead>\n",
       "  <tbody>\n",
       "    <tr>\n",
       "      <th>0</th>\n",
       "      <td>208.0</td>\n",
       "      <td>15.9</td>\n",
       "      <td>13.2</td>\n",
       "      <td>44.0</td>\n",
       "      <td>8.6</td>\n",
       "      <td>9.4</td>\n",
       "      <td>0</td>\n",
       "      <td>1</td>\n",
       "      <td>0</td>\n",
       "      <td>False</td>\n",
       "      <td>False</td>\n",
       "      <td>True</td>\n",
       "      <td>False</td>\n",
       "      <td>False</td>\n",
       "      <td>False</td>\n",
       "    </tr>\n",
       "    <tr>\n",
       "      <th>1</th>\n",
       "      <td>207.0</td>\n",
       "      <td>17.4</td>\n",
       "      <td>13.7</td>\n",
       "      <td>44.0</td>\n",
       "      <td>8.6</td>\n",
       "      <td>10.5</td>\n",
       "      <td>0</td>\n",
       "      <td>1</td>\n",
       "      <td>0</td>\n",
       "      <td>False</td>\n",
       "      <td>False</td>\n",
       "      <td>True</td>\n",
       "      <td>False</td>\n",
       "      <td>False</td>\n",
       "      <td>False</td>\n",
       "    </tr>\n",
       "    <tr>\n",
       "      <th>2</th>\n",
       "      <td>217.0</td>\n",
       "      <td>19.0</td>\n",
       "      <td>15.5</td>\n",
       "      <td>43.0</td>\n",
       "      <td>10.4</td>\n",
       "      <td>12.9</td>\n",
       "      <td>0</td>\n",
       "      <td>1</td>\n",
       "      <td>0</td>\n",
       "      <td>False</td>\n",
       "      <td>False</td>\n",
       "      <td>True</td>\n",
       "      <td>False</td>\n",
       "      <td>False</td>\n",
       "      <td>False</td>\n",
       "    </tr>\n",
       "  </tbody>\n",
       "</table>\n",
       "</div>"
      ],
      "text/plain": [
       "      CO   NO2   SO2    O3  PM2.5  PM10  Type  Month  Day  City_Beijing  \\\n",
       "0  208.0  15.9  13.2  44.0    8.6   9.4     0      1    0         False   \n",
       "1  207.0  17.4  13.7  44.0    8.6  10.5     0      1    0         False   \n",
       "2  217.0  19.0  15.5  43.0   10.4  12.9     0      1    0         False   \n",
       "\n",
       "   City_Delhi  City_Moscow  City_Stockholm  City_Vancouver  City_Zurich  \n",
       "0       False         True           False           False        False  \n",
       "1       False         True           False           False        False  \n",
       "2       False         True           False           False        False  "
      ]
     },
     "execution_count": 12,
     "metadata": {},
     "output_type": "execute_result"
    }
   ],
   "source": [
    "df.head(3)"
   ]
  },
  {
   "cell_type": "code",
   "execution_count": 13,
   "id": "26c0ae54",
   "metadata": {
    "execution": {
     "iopub.execute_input": "2025-07-08T17:29:52.051348Z",
     "iopub.status.busy": "2025-07-08T17:29:52.051046Z",
     "iopub.status.idle": "2025-07-08T17:29:52.073243Z",
     "shell.execute_reply": "2025-07-08T17:29:52.072057Z"
    },
    "papermill": {
     "duration": 0.030408,
     "end_time": "2025-07-08T17:29:52.074735",
     "exception": false,
     "start_time": "2025-07-08T17:29:52.044327",
     "status": "completed"
    },
    "tags": []
   },
   "outputs": [
    {
     "name": "stdout",
     "output_type": "stream",
     "text": [
      "<class 'pandas.core.frame.DataFrame'>\n",
      "RangeIndex: 52704 entries, 0 to 52703\n",
      "Data columns (total 15 columns):\n",
      " #   Column          Non-Null Count  Dtype  \n",
      "---  ------          --------------  -----  \n",
      " 0   CO              52704 non-null  float64\n",
      " 1   NO2             52704 non-null  float64\n",
      " 2   SO2             52704 non-null  float64\n",
      " 3   O3              52704 non-null  float64\n",
      " 4   PM2.5           52704 non-null  float64\n",
      " 5   PM10            52704 non-null  float64\n",
      " 6   Type            52704 non-null  int64  \n",
      " 7   Month           52704 non-null  int32  \n",
      " 8   Day             52704 non-null  int32  \n",
      " 9   City_Beijing    52704 non-null  bool   \n",
      " 10  City_Delhi      52704 non-null  bool   \n",
      " 11  City_Moscow     52704 non-null  bool   \n",
      " 12  City_Stockholm  52704 non-null  bool   \n",
      " 13  City_Vancouver  52704 non-null  bool   \n",
      " 14  City_Zurich     52704 non-null  bool   \n",
      "dtypes: bool(6), float64(6), int32(2), int64(1)\n",
      "memory usage: 3.5 MB\n"
     ]
    }
   ],
   "source": [
    "df.info()"
   ]
  },
  {
   "cell_type": "code",
   "execution_count": 14,
   "id": "a5c0ffb5",
   "metadata": {
    "execution": {
     "iopub.execute_input": "2025-07-08T17:29:52.087880Z",
     "iopub.status.busy": "2025-07-08T17:29:52.087543Z",
     "iopub.status.idle": "2025-07-08T17:29:52.116754Z",
     "shell.execute_reply": "2025-07-08T17:29:52.115873Z"
    },
    "papermill": {
     "duration": 0.037692,
     "end_time": "2025-07-08T17:29:52.118433",
     "exception": false,
     "start_time": "2025-07-08T17:29:52.080741",
     "status": "completed"
    },
    "tags": []
   },
   "outputs": [
    {
     "data": {
      "text/plain": [
       "1"
      ]
     },
     "execution_count": 14,
     "metadata": {},
     "output_type": "execute_result"
    }
   ],
   "source": [
    "df.duplicated().sum()"
   ]
  },
  {
   "cell_type": "code",
   "execution_count": 15,
   "id": "c190daa6",
   "metadata": {
    "execution": {
     "iopub.execute_input": "2025-07-08T17:29:52.132290Z",
     "iopub.status.busy": "2025-07-08T17:29:52.131989Z",
     "iopub.status.idle": "2025-07-08T17:29:52.163210Z",
     "shell.execute_reply": "2025-07-08T17:29:52.162174Z"
    },
    "papermill": {
     "duration": 0.040119,
     "end_time": "2025-07-08T17:29:52.164858",
     "exception": false,
     "start_time": "2025-07-08T17:29:52.124739",
     "status": "completed"
    },
    "tags": []
   },
   "outputs": [],
   "source": [
    "df=df.drop_duplicates()"
   ]
  },
  {
   "cell_type": "code",
   "execution_count": 16,
   "id": "e2f07d5b",
   "metadata": {
    "execution": {
     "iopub.execute_input": "2025-07-08T17:29:52.178473Z",
     "iopub.status.busy": "2025-07-08T17:29:52.178188Z",
     "iopub.status.idle": "2025-07-08T17:29:52.186269Z",
     "shell.execute_reply": "2025-07-08T17:29:52.185547Z"
    },
    "papermill": {
     "duration": 0.016915,
     "end_time": "2025-07-08T17:29:52.187820",
     "exception": false,
     "start_time": "2025-07-08T17:29:52.170905",
     "status": "completed"
    },
    "tags": []
   },
   "outputs": [],
   "source": [
    "X=df.drop(columns=['Type'])\n",
    "y=df['Type']"
   ]
  },
  {
   "cell_type": "code",
   "execution_count": 17,
   "id": "221da73b",
   "metadata": {
    "execution": {
     "iopub.execute_input": "2025-07-08T17:29:52.202123Z",
     "iopub.status.busy": "2025-07-08T17:29:52.201367Z",
     "iopub.status.idle": "2025-07-08T17:29:52.320442Z",
     "shell.execute_reply": "2025-07-08T17:29:52.319627Z"
    },
    "papermill": {
     "duration": 0.127766,
     "end_time": "2025-07-08T17:29:52.322094",
     "exception": false,
     "start_time": "2025-07-08T17:29:52.194328",
     "status": "completed"
    },
    "tags": []
   },
   "outputs": [],
   "source": [
    "from sklearn.model_selection import train_test_split\n",
    "X_train,X_test,y_train,y_test=train_test_split(X,y,test_size=0.2,random_state=42)"
   ]
  },
  {
   "cell_type": "code",
   "execution_count": 18,
   "id": "042b55dd",
   "metadata": {
    "execution": {
     "iopub.execute_input": "2025-07-08T17:29:52.335441Z",
     "iopub.status.busy": "2025-07-08T17:29:52.335143Z",
     "iopub.status.idle": "2025-07-08T17:29:52.421535Z",
     "shell.execute_reply": "2025-07-08T17:29:52.420689Z"
    },
    "papermill": {
     "duration": 0.095381,
     "end_time": "2025-07-08T17:29:52.423606",
     "exception": false,
     "start_time": "2025-07-08T17:29:52.328225",
     "status": "completed"
    },
    "tags": []
   },
   "outputs": [],
   "source": [
    "from sklearn.preprocessing import StandardScaler\n",
    "sc=StandardScaler()\n",
    "X_train_scaled=sc.fit_transform(X_train)\n",
    "X_test_scaled=sc.transform(X_test)"
   ]
  },
  {
   "cell_type": "code",
   "execution_count": 19,
   "id": "2138bc92",
   "metadata": {
    "execution": {
     "iopub.execute_input": "2025-07-08T17:29:52.437383Z",
     "iopub.status.busy": "2025-07-08T17:29:52.437078Z",
     "iopub.status.idle": "2025-07-08T17:30:09.437345Z",
     "shell.execute_reply": "2025-07-08T17:30:09.436331Z"
    },
    "papermill": {
     "duration": 17.009486,
     "end_time": "2025-07-08T17:30:09.439111",
     "exception": false,
     "start_time": "2025-07-08T17:29:52.429625",
     "status": "completed"
    },
    "tags": []
   },
   "outputs": [
    {
     "name": "stderr",
     "output_type": "stream",
     "text": [
      "2025-07-08 17:29:54.404027: E external/local_xla/xla/stream_executor/cuda/cuda_fft.cc:477] Unable to register cuFFT factory: Attempting to register factory for plugin cuFFT when one has already been registered\n",
      "WARNING: All log messages before absl::InitializeLog() is called are written to STDERR\n",
      "E0000 00:00:1751995794.655343      13 cuda_dnn.cc:8310] Unable to register cuDNN factory: Attempting to register factory for plugin cuDNN when one has already been registered\n",
      "E0000 00:00:1751995794.727550      13 cuda_blas.cc:1418] Unable to register cuBLAS factory: Attempting to register factory for plugin cuBLAS when one has already been registered\n"
     ]
    }
   ],
   "source": [
    "import tensorflow\n",
    "from tensorflow import keras\n",
    "from tensorflow.keras import Sequential\n",
    "from tensorflow.keras.layers import Dense"
   ]
  },
  {
   "cell_type": "code",
   "execution_count": 20,
   "id": "7a5a968f",
   "metadata": {
    "execution": {
     "iopub.execute_input": "2025-07-08T17:30:09.453044Z",
     "iopub.status.busy": "2025-07-08T17:30:09.452420Z",
     "iopub.status.idle": "2025-07-08T17:30:09.546067Z",
     "shell.execute_reply": "2025-07-08T17:30:09.545160Z"
    },
    "papermill": {
     "duration": 0.102144,
     "end_time": "2025-07-08T17:30:09.547604",
     "exception": false,
     "start_time": "2025-07-08T17:30:09.445460",
     "status": "completed"
    },
    "tags": []
   },
   "outputs": [
    {
     "name": "stderr",
     "output_type": "stream",
     "text": [
      "/usr/local/lib/python3.11/dist-packages/keras/src/layers/core/dense.py:87: UserWarning: Do not pass an `input_shape`/`input_dim` argument to a layer. When using Sequential models, prefer using an `Input(shape)` object as the first layer in the model instead.\n",
      "  super().__init__(activity_regularizer=activity_regularizer, **kwargs)\n",
      "2025-07-08 17:30:09.463730: E external/local_xla/xla/stream_executor/cuda/cuda_driver.cc:152] failed call to cuInit: INTERNAL: CUDA error: Failed call to cuInit: UNKNOWN ERROR (303)\n"
     ]
    }
   ],
   "source": [
    "model=Sequential()\n",
    "model.add(Dense(10,activation='relu',input_dim=14))\n",
    "model.add(Dense(10,activation='relu'))\n",
    "model.add(Dense(1,activation='sigmoid'))"
   ]
  },
  {
   "cell_type": "code",
   "execution_count": 21,
   "id": "f4958bec",
   "metadata": {
    "execution": {
     "iopub.execute_input": "2025-07-08T17:30:09.561040Z",
     "iopub.status.busy": "2025-07-08T17:30:09.560685Z",
     "iopub.status.idle": "2025-07-08T17:30:09.576143Z",
     "shell.execute_reply": "2025-07-08T17:30:09.575243Z"
    },
    "papermill": {
     "duration": 0.023761,
     "end_time": "2025-07-08T17:30:09.577496",
     "exception": false,
     "start_time": "2025-07-08T17:30:09.553735",
     "status": "completed"
    },
    "tags": []
   },
   "outputs": [
    {
     "data": {
      "text/html": [
       "<pre style=\"white-space:pre;overflow-x:auto;line-height:normal;font-family:Menlo,'DejaVu Sans Mono',consolas,'Courier New',monospace\"><span style=\"font-weight: bold\">Model: \"sequential\"</span>\n",
       "</pre>\n"
      ],
      "text/plain": [
       "\u001b[1mModel: \"sequential\"\u001b[0m\n"
      ]
     },
     "metadata": {},
     "output_type": "display_data"
    },
    {
     "data": {
      "text/html": [
       "<pre style=\"white-space:pre;overflow-x:auto;line-height:normal;font-family:Menlo,'DejaVu Sans Mono',consolas,'Courier New',monospace\">┏━━━━━━━━━━━━━━━━━━━━━━━━━━━━━━━━━━━━━━┳━━━━━━━━━━━━━━━━━━━━━━━━━━━━━┳━━━━━━━━━━━━━━━━━┓\n",
       "┃<span style=\"font-weight: bold\"> Layer (type)                         </span>┃<span style=\"font-weight: bold\"> Output Shape                </span>┃<span style=\"font-weight: bold\">         Param # </span>┃\n",
       "┡━━━━━━━━━━━━━━━━━━━━━━━━━━━━━━━━━━━━━━╇━━━━━━━━━━━━━━━━━━━━━━━━━━━━━╇━━━━━━━━━━━━━━━━━┩\n",
       "│ dense (<span style=\"color: #0087ff; text-decoration-color: #0087ff\">Dense</span>)                        │ (<span style=\"color: #00d7ff; text-decoration-color: #00d7ff\">None</span>, <span style=\"color: #00af00; text-decoration-color: #00af00\">10</span>)                  │             <span style=\"color: #00af00; text-decoration-color: #00af00\">150</span> │\n",
       "├──────────────────────────────────────┼─────────────────────────────┼─────────────────┤\n",
       "│ dense_1 (<span style=\"color: #0087ff; text-decoration-color: #0087ff\">Dense</span>)                      │ (<span style=\"color: #00d7ff; text-decoration-color: #00d7ff\">None</span>, <span style=\"color: #00af00; text-decoration-color: #00af00\">10</span>)                  │             <span style=\"color: #00af00; text-decoration-color: #00af00\">110</span> │\n",
       "├──────────────────────────────────────┼─────────────────────────────┼─────────────────┤\n",
       "│ dense_2 (<span style=\"color: #0087ff; text-decoration-color: #0087ff\">Dense</span>)                      │ (<span style=\"color: #00d7ff; text-decoration-color: #00d7ff\">None</span>, <span style=\"color: #00af00; text-decoration-color: #00af00\">1</span>)                   │              <span style=\"color: #00af00; text-decoration-color: #00af00\">11</span> │\n",
       "└──────────────────────────────────────┴─────────────────────────────┴─────────────────┘\n",
       "</pre>\n"
      ],
      "text/plain": [
       "┏━━━━━━━━━━━━━━━━━━━━━━━━━━━━━━━━━━━━━━┳━━━━━━━━━━━━━━━━━━━━━━━━━━━━━┳━━━━━━━━━━━━━━━━━┓\n",
       "┃\u001b[1m \u001b[0m\u001b[1mLayer (type)                        \u001b[0m\u001b[1m \u001b[0m┃\u001b[1m \u001b[0m\u001b[1mOutput Shape               \u001b[0m\u001b[1m \u001b[0m┃\u001b[1m \u001b[0m\u001b[1m        Param #\u001b[0m\u001b[1m \u001b[0m┃\n",
       "┡━━━━━━━━━━━━━━━━━━━━━━━━━━━━━━━━━━━━━━╇━━━━━━━━━━━━━━━━━━━━━━━━━━━━━╇━━━━━━━━━━━━━━━━━┩\n",
       "│ dense (\u001b[38;5;33mDense\u001b[0m)                        │ (\u001b[38;5;45mNone\u001b[0m, \u001b[38;5;34m10\u001b[0m)                  │             \u001b[38;5;34m150\u001b[0m │\n",
       "├──────────────────────────────────────┼─────────────────────────────┼─────────────────┤\n",
       "│ dense_1 (\u001b[38;5;33mDense\u001b[0m)                      │ (\u001b[38;5;45mNone\u001b[0m, \u001b[38;5;34m10\u001b[0m)                  │             \u001b[38;5;34m110\u001b[0m │\n",
       "├──────────────────────────────────────┼─────────────────────────────┼─────────────────┤\n",
       "│ dense_2 (\u001b[38;5;33mDense\u001b[0m)                      │ (\u001b[38;5;45mNone\u001b[0m, \u001b[38;5;34m1\u001b[0m)                   │              \u001b[38;5;34m11\u001b[0m │\n",
       "└──────────────────────────────────────┴─────────────────────────────┴─────────────────┘\n"
      ]
     },
     "metadata": {},
     "output_type": "display_data"
    },
    {
     "data": {
      "text/html": [
       "<pre style=\"white-space:pre;overflow-x:auto;line-height:normal;font-family:Menlo,'DejaVu Sans Mono',consolas,'Courier New',monospace\"><span style=\"font-weight: bold\"> Total params: </span><span style=\"color: #00af00; text-decoration-color: #00af00\">271</span> (1.06 KB)\n",
       "</pre>\n"
      ],
      "text/plain": [
       "\u001b[1m Total params: \u001b[0m\u001b[38;5;34m271\u001b[0m (1.06 KB)\n"
      ]
     },
     "metadata": {},
     "output_type": "display_data"
    },
    {
     "data": {
      "text/html": [
       "<pre style=\"white-space:pre;overflow-x:auto;line-height:normal;font-family:Menlo,'DejaVu Sans Mono',consolas,'Courier New',monospace\"><span style=\"font-weight: bold\"> Trainable params: </span><span style=\"color: #00af00; text-decoration-color: #00af00\">271</span> (1.06 KB)\n",
       "</pre>\n"
      ],
      "text/plain": [
       "\u001b[1m Trainable params: \u001b[0m\u001b[38;5;34m271\u001b[0m (1.06 KB)\n"
      ]
     },
     "metadata": {},
     "output_type": "display_data"
    },
    {
     "data": {
      "text/html": [
       "<pre style=\"white-space:pre;overflow-x:auto;line-height:normal;font-family:Menlo,'DejaVu Sans Mono',consolas,'Courier New',monospace\"><span style=\"font-weight: bold\"> Non-trainable params: </span><span style=\"color: #00af00; text-decoration-color: #00af00\">0</span> (0.00 B)\n",
       "</pre>\n"
      ],
      "text/plain": [
       "\u001b[1m Non-trainable params: \u001b[0m\u001b[38;5;34m0\u001b[0m (0.00 B)\n"
      ]
     },
     "metadata": {},
     "output_type": "display_data"
    }
   ],
   "source": [
    "model.summary()"
   ]
  },
  {
   "cell_type": "code",
   "execution_count": 22,
   "id": "7841d454",
   "metadata": {
    "execution": {
     "iopub.execute_input": "2025-07-08T17:30:09.592605Z",
     "iopub.status.busy": "2025-07-08T17:30:09.592291Z",
     "iopub.status.idle": "2025-07-08T17:30:09.607825Z",
     "shell.execute_reply": "2025-07-08T17:30:09.606779Z"
    },
    "papermill": {
     "duration": 0.02502,
     "end_time": "2025-07-08T17:30:09.609667",
     "exception": false,
     "start_time": "2025-07-08T17:30:09.584647",
     "status": "completed"
    },
    "tags": []
   },
   "outputs": [],
   "source": [
    "model.compile(loss='binary_crossentropy',optimizer='Adam',metrics=['accuracy'])"
   ]
  },
  {
   "cell_type": "code",
   "execution_count": 23,
   "id": "bf5ccf5b",
   "metadata": {
    "execution": {
     "iopub.execute_input": "2025-07-08T17:30:09.624736Z",
     "iopub.status.busy": "2025-07-08T17:30:09.624463Z",
     "iopub.status.idle": "2025-07-08T17:30:09.629628Z",
     "shell.execute_reply": "2025-07-08T17:30:09.628740Z"
    },
    "papermill": {
     "duration": 0.014415,
     "end_time": "2025-07-08T17:30:09.631119",
     "exception": false,
     "start_time": "2025-07-08T17:30:09.616704",
     "status": "completed"
    },
    "tags": []
   },
   "outputs": [],
   "source": [
    "from keras.callbacks import EarlyStopping\n",
    "early_stop=EarlyStopping(monitor='val_loss',patience=3,restore_best_weights=True,verbose=1)"
   ]
  },
  {
   "cell_type": "code",
   "execution_count": 24,
   "id": "2bbc8807",
   "metadata": {
    "execution": {
     "iopub.execute_input": "2025-07-08T17:30:09.645933Z",
     "iopub.status.busy": "2025-07-08T17:30:09.645623Z",
     "iopub.status.idle": "2025-07-08T17:31:59.494161Z",
     "shell.execute_reply": "2025-07-08T17:31:59.493234Z"
    },
    "papermill": {
     "duration": 109.857671,
     "end_time": "2025-07-08T17:31:59.495784",
     "exception": false,
     "start_time": "2025-07-08T17:30:09.638113",
     "status": "completed"
    },
    "tags": []
   },
   "outputs": [
    {
     "name": "stdout",
     "output_type": "stream",
     "text": [
      "Epoch 1/50\n",
      "\u001b[1m1055/1055\u001b[0m \u001b[32m━━━━━━━━━━━━━━━━━━━━\u001b[0m\u001b[37m\u001b[0m \u001b[1m4s\u001b[0m 2ms/step - accuracy: 0.8583 - loss: 0.2672 - val_accuracy: 1.0000 - val_loss: 0.0011\n",
      "Epoch 2/50\n",
      "\u001b[1m1055/1055\u001b[0m \u001b[32m━━━━━━━━━━━━━━━━━━━━\u001b[0m\u001b[37m\u001b[0m \u001b[1m2s\u001b[0m 2ms/step - accuracy: 1.0000 - loss: 7.1525e-04 - val_accuracy: 1.0000 - val_loss: 2.1893e-04\n",
      "Epoch 3/50\n",
      "\u001b[1m1055/1055\u001b[0m \u001b[32m━━━━━━━━━━━━━━━━━━━━\u001b[0m\u001b[37m\u001b[0m \u001b[1m2s\u001b[0m 2ms/step - accuracy: 1.0000 - loss: 1.6734e-04 - val_accuracy: 1.0000 - val_loss: 7.9453e-05\n",
      "Epoch 4/50\n",
      "\u001b[1m1055/1055\u001b[0m \u001b[32m━━━━━━━━━━━━━━━━━━━━\u001b[0m\u001b[37m\u001b[0m \u001b[1m2s\u001b[0m 2ms/step - accuracy: 1.0000 - loss: 6.4803e-05 - val_accuracy: 1.0000 - val_loss: 3.5279e-05\n",
      "Epoch 5/50\n",
      "\u001b[1m1055/1055\u001b[0m \u001b[32m━━━━━━━━━━━━━━━━━━━━\u001b[0m\u001b[37m\u001b[0m \u001b[1m2s\u001b[0m 2ms/step - accuracy: 1.0000 - loss: 2.9815e-05 - val_accuracy: 1.0000 - val_loss: 1.7304e-05\n",
      "Epoch 6/50\n",
      "\u001b[1m1055/1055\u001b[0m \u001b[32m━━━━━━━━━━━━━━━━━━━━\u001b[0m\u001b[37m\u001b[0m \u001b[1m2s\u001b[0m 2ms/step - accuracy: 1.0000 - loss: 1.4871e-05 - val_accuracy: 1.0000 - val_loss: 8.9263e-06\n",
      "Epoch 7/50\n",
      "\u001b[1m1055/1055\u001b[0m \u001b[32m━━━━━━━━━━━━━━━━━━━━\u001b[0m\u001b[37m\u001b[0m \u001b[1m2s\u001b[0m 2ms/step - accuracy: 1.0000 - loss: 7.9530e-06 - val_accuracy: 1.0000 - val_loss: 4.7407e-06\n",
      "Epoch 8/50\n",
      "\u001b[1m1055/1055\u001b[0m \u001b[32m━━━━━━━━━━━━━━━━━━━━\u001b[0m\u001b[37m\u001b[0m \u001b[1m2s\u001b[0m 2ms/step - accuracy: 1.0000 - loss: 4.1144e-06 - val_accuracy: 1.0000 - val_loss: 2.5592e-06\n",
      "Epoch 9/50\n",
      "\u001b[1m1055/1055\u001b[0m \u001b[32m━━━━━━━━━━━━━━━━━━━━\u001b[0m\u001b[37m\u001b[0m \u001b[1m2s\u001b[0m 2ms/step - accuracy: 1.0000 - loss: 2.1585e-06 - val_accuracy: 1.0000 - val_loss: 1.3940e-06\n",
      "Epoch 10/50\n",
      "\u001b[1m1055/1055\u001b[0m \u001b[32m━━━━━━━━━━━━━━━━━━━━\u001b[0m\u001b[37m\u001b[0m \u001b[1m2s\u001b[0m 2ms/step - accuracy: 1.0000 - loss: 1.1866e-06 - val_accuracy: 1.0000 - val_loss: 7.6762e-07\n",
      "Epoch 11/50\n",
      "\u001b[1m1055/1055\u001b[0m \u001b[32m━━━━━━━━━━━━━━━━━━━━\u001b[0m\u001b[37m\u001b[0m \u001b[1m2s\u001b[0m 2ms/step - accuracy: 1.0000 - loss: 6.3079e-07 - val_accuracy: 1.0000 - val_loss: 4.2439e-07\n",
      "Epoch 12/50\n",
      "\u001b[1m1055/1055\u001b[0m \u001b[32m━━━━━━━━━━━━━━━━━━━━\u001b[0m\u001b[37m\u001b[0m \u001b[1m2s\u001b[0m 2ms/step - accuracy: 1.0000 - loss: 3.6487e-07 - val_accuracy: 1.0000 - val_loss: 2.3643e-07\n",
      "Epoch 13/50\n",
      "\u001b[1m1055/1055\u001b[0m \u001b[32m━━━━━━━━━━━━━━━━━━━━\u001b[0m\u001b[37m\u001b[0m \u001b[1m2s\u001b[0m 2ms/step - accuracy: 1.0000 - loss: 2.0614e-07 - val_accuracy: 1.0000 - val_loss: 1.3268e-07\n",
      "Epoch 14/50\n",
      "\u001b[1m1055/1055\u001b[0m \u001b[32m━━━━━━━━━━━━━━━━━━━━\u001b[0m\u001b[37m\u001b[0m \u001b[1m2s\u001b[0m 2ms/step - accuracy: 1.0000 - loss: 1.1463e-07 - val_accuracy: 1.0000 - val_loss: 7.4821e-08\n",
      "Epoch 15/50\n",
      "\u001b[1m1055/1055\u001b[0m \u001b[32m━━━━━━━━━━━━━━━━━━━━\u001b[0m\u001b[37m\u001b[0m \u001b[1m2s\u001b[0m 2ms/step - accuracy: 1.0000 - loss: 6.4347e-08 - val_accuracy: 1.0000 - val_loss: 4.2928e-08\n",
      "Epoch 16/50\n",
      "\u001b[1m1055/1055\u001b[0m \u001b[32m━━━━━━━━━━━━━━━━━━━━\u001b[0m\u001b[37m\u001b[0m \u001b[1m2s\u001b[0m 2ms/step - accuracy: 1.0000 - loss: 3.6402e-08 - val_accuracy: 1.0000 - val_loss: 2.4858e-08\n",
      "Epoch 17/50\n",
      "\u001b[1m1055/1055\u001b[0m \u001b[32m━━━━━━━━━━━━━━━━━━━━\u001b[0m\u001b[37m\u001b[0m \u001b[1m2s\u001b[0m 2ms/step - accuracy: 1.0000 - loss: 2.1778e-08 - val_accuracy: 1.0000 - val_loss: 1.4658e-08\n",
      "Epoch 18/50\n",
      "\u001b[1m1055/1055\u001b[0m \u001b[32m━━━━━━━━━━━━━━━━━━━━\u001b[0m\u001b[37m\u001b[0m \u001b[1m2s\u001b[0m 2ms/step - accuracy: 1.0000 - loss: 1.2736e-08 - val_accuracy: 1.0000 - val_loss: 8.8328e-09\n",
      "Epoch 19/50\n",
      "\u001b[1m1055/1055\u001b[0m \u001b[32m━━━━━━━━━━━━━━━━━━━━\u001b[0m\u001b[37m\u001b[0m \u001b[1m2s\u001b[0m 2ms/step - accuracy: 1.0000 - loss: 7.7381e-09 - val_accuracy: 1.0000 - val_loss: 5.4200e-09\n",
      "Epoch 20/50\n",
      "\u001b[1m1055/1055\u001b[0m \u001b[32m━━━━━━━━━━━━━━━━━━━━\u001b[0m\u001b[37m\u001b[0m \u001b[1m2s\u001b[0m 2ms/step - accuracy: 1.0000 - loss: 5.1498e-09 - val_accuracy: 1.0000 - val_loss: 3.4646e-09\n",
      "Epoch 21/50\n",
      "\u001b[1m1055/1055\u001b[0m \u001b[32m━━━━━━━━━━━━━━━━━━━━\u001b[0m\u001b[37m\u001b[0m \u001b[1m2s\u001b[0m 2ms/step - accuracy: 1.0000 - loss: 2.9687e-09 - val_accuracy: 1.0000 - val_loss: 2.2662e-09\n",
      "Epoch 22/50\n",
      "\u001b[1m1055/1055\u001b[0m \u001b[32m━━━━━━━━━━━━━━━━━━━━\u001b[0m\u001b[37m\u001b[0m \u001b[1m2s\u001b[0m 2ms/step - accuracy: 1.0000 - loss: 2.0417e-09 - val_accuracy: 1.0000 - val_loss: 1.5558e-09\n",
      "Epoch 23/50\n",
      "\u001b[1m1055/1055\u001b[0m \u001b[32m━━━━━━━━━━━━━━━━━━━━\u001b[0m\u001b[37m\u001b[0m \u001b[1m2s\u001b[0m 2ms/step - accuracy: 1.0000 - loss: 1.4656e-09 - val_accuracy: 1.0000 - val_loss: 1.1136e-09\n",
      "Epoch 24/50\n",
      "\u001b[1m1055/1055\u001b[0m \u001b[32m━━━━━━━━━━━━━━━━━━━━\u001b[0m\u001b[37m\u001b[0m \u001b[1m2s\u001b[0m 2ms/step - accuracy: 1.0000 - loss: 1.0342e-09 - val_accuracy: 1.0000 - val_loss: 8.3175e-10\n",
      "Epoch 25/50\n",
      "\u001b[1m1055/1055\u001b[0m \u001b[32m━━━━━━━━━━━━━━━━━━━━\u001b[0m\u001b[37m\u001b[0m \u001b[1m2s\u001b[0m 2ms/step - accuracy: 1.0000 - loss: 7.9063e-10 - val_accuracy: 1.0000 - val_loss: 6.4640e-10\n",
      "Epoch 26/50\n",
      "\u001b[1m1055/1055\u001b[0m \u001b[32m━━━━━━━━━━━━━━━━━━━━\u001b[0m\u001b[37m\u001b[0m \u001b[1m2s\u001b[0m 2ms/step - accuracy: 1.0000 - loss: 6.3010e-10 - val_accuracy: 1.0000 - val_loss: 5.2043e-10\n",
      "Epoch 27/50\n",
      "\u001b[1m1055/1055\u001b[0m \u001b[32m━━━━━━━━━━━━━━━━━━━━\u001b[0m\u001b[37m\u001b[0m \u001b[1m2s\u001b[0m 2ms/step - accuracy: 1.0000 - loss: 5.1631e-10 - val_accuracy: 1.0000 - val_loss: 4.3456e-10\n",
      "Epoch 28/50\n",
      "\u001b[1m1055/1055\u001b[0m \u001b[32m━━━━━━━━━━━━━━━━━━━━\u001b[0m\u001b[37m\u001b[0m \u001b[1m2s\u001b[0m 2ms/step - accuracy: 1.0000 - loss: 4.2284e-10 - val_accuracy: 1.0000 - val_loss: 3.7193e-10\n",
      "Epoch 29/50\n",
      "\u001b[1m1055/1055\u001b[0m \u001b[32m━━━━━━━━━━━━━━━━━━━━\u001b[0m\u001b[37m\u001b[0m \u001b[1m2s\u001b[0m 2ms/step - accuracy: 1.0000 - loss: 3.6275e-10 - val_accuracy: 1.0000 - val_loss: 3.2389e-10\n",
      "Epoch 30/50\n",
      "\u001b[1m1055/1055\u001b[0m \u001b[32m━━━━━━━━━━━━━━━━━━━━\u001b[0m\u001b[37m\u001b[0m \u001b[1m2s\u001b[0m 2ms/step - accuracy: 1.0000 - loss: 3.0207e-10 - val_accuracy: 1.0000 - val_loss: 2.8763e-10\n",
      "Epoch 31/50\n",
      "\u001b[1m1055/1055\u001b[0m \u001b[32m━━━━━━━━━━━━━━━━━━━━\u001b[0m\u001b[37m\u001b[0m \u001b[1m2s\u001b[0m 2ms/step - accuracy: 1.0000 - loss: 2.7221e-10 - val_accuracy: 1.0000 - val_loss: 2.5873e-10\n",
      "Epoch 32/50\n",
      "\u001b[1m1055/1055\u001b[0m \u001b[32m━━━━━━━━━━━━━━━━━━━━\u001b[0m\u001b[37m\u001b[0m \u001b[1m2s\u001b[0m 2ms/step - accuracy: 1.0000 - loss: 2.5022e-10 - val_accuracy: 1.0000 - val_loss: 2.3651e-10\n",
      "Epoch 33/50\n",
      "\u001b[1m1055/1055\u001b[0m \u001b[32m━━━━━━━━━━━━━━━━━━━━\u001b[0m\u001b[37m\u001b[0m \u001b[1m2s\u001b[0m 2ms/step - accuracy: 1.0000 - loss: 2.2173e-10 - val_accuracy: 1.0000 - val_loss: 2.1913e-10\n",
      "Epoch 34/50\n",
      "\u001b[1m1055/1055\u001b[0m \u001b[32m━━━━━━━━━━━━━━━━━━━━\u001b[0m\u001b[37m\u001b[0m \u001b[1m2s\u001b[0m 2ms/step - accuracy: 1.0000 - loss: 2.1821e-10 - val_accuracy: 1.0000 - val_loss: 2.0434e-10\n",
      "Epoch 35/50\n",
      "\u001b[1m1055/1055\u001b[0m \u001b[32m━━━━━━━━━━━━━━━━━━━━\u001b[0m\u001b[37m\u001b[0m \u001b[1m2s\u001b[0m 2ms/step - accuracy: 1.0000 - loss: 2.1446e-10 - val_accuracy: 1.0000 - val_loss: 1.9297e-10\n",
      "Epoch 36/50\n",
      "\u001b[1m1055/1055\u001b[0m \u001b[32m━━━━━━━━━━━━━━━━━━━━\u001b[0m\u001b[37m\u001b[0m \u001b[1m2s\u001b[0m 2ms/step - accuracy: 1.0000 - loss: 1.9292e-10 - val_accuracy: 1.0000 - val_loss: 1.8346e-10\n",
      "Epoch 37/50\n",
      "\u001b[1m1055/1055\u001b[0m \u001b[32m━━━━━━━━━━━━━━━━━━━━\u001b[0m\u001b[37m\u001b[0m \u001b[1m2s\u001b[0m 2ms/step - accuracy: 1.0000 - loss: 1.8434e-10 - val_accuracy: 1.0000 - val_loss: 1.7462e-10\n",
      "Epoch 38/50\n",
      "\u001b[1m1055/1055\u001b[0m \u001b[32m━━━━━━━━━━━━━━━━━━━━\u001b[0m\u001b[37m\u001b[0m \u001b[1m2s\u001b[0m 2ms/step - accuracy: 1.0000 - loss: 1.6614e-10 - val_accuracy: 1.0000 - val_loss: 1.6648e-10\n",
      "Epoch 39/50\n",
      "\u001b[1m1055/1055\u001b[0m \u001b[32m━━━━━━━━━━━━━━━━━━━━\u001b[0m\u001b[37m\u001b[0m \u001b[1m2s\u001b[0m 2ms/step - accuracy: 1.0000 - loss: 1.6380e-10 - val_accuracy: 1.0000 - val_loss: 1.5869e-10\n",
      "Epoch 40/50\n",
      "\u001b[1m1055/1055\u001b[0m \u001b[32m━━━━━━━━━━━━━━━━━━━━\u001b[0m\u001b[37m\u001b[0m \u001b[1m2s\u001b[0m 2ms/step - accuracy: 1.0000 - loss: 1.4898e-10 - val_accuracy: 1.0000 - val_loss: 1.5295e-10\n",
      "Epoch 41/50\n",
      "\u001b[1m1055/1055\u001b[0m \u001b[32m━━━━━━━━━━━━━━━━━━━━\u001b[0m\u001b[37m\u001b[0m \u001b[1m2s\u001b[0m 2ms/step - accuracy: 1.0000 - loss: 1.5433e-10 - val_accuracy: 1.0000 - val_loss: 1.4717e-10\n",
      "Epoch 42/50\n",
      "\u001b[1m1055/1055\u001b[0m \u001b[32m━━━━━━━━━━━━━━━━━━━━\u001b[0m\u001b[37m\u001b[0m \u001b[1m2s\u001b[0m 2ms/step - accuracy: 1.0000 - loss: 1.4464e-10 - val_accuracy: 1.0000 - val_loss: 1.4184e-10\n",
      "Epoch 43/50\n",
      "\u001b[1m1055/1055\u001b[0m \u001b[32m━━━━━━━━━━━━━━━━━━━━\u001b[0m\u001b[37m\u001b[0m \u001b[1m2s\u001b[0m 2ms/step - accuracy: 1.0000 - loss: 1.4278e-10 - val_accuracy: 1.0000 - val_loss: 1.3676e-10\n",
      "Epoch 44/50\n",
      "\u001b[1m1055/1055\u001b[0m \u001b[32m━━━━━━━━━━━━━━━━━━━━\u001b[0m\u001b[37m\u001b[0m \u001b[1m2s\u001b[0m 2ms/step - accuracy: 1.0000 - loss: 1.3777e-10 - val_accuracy: 1.0000 - val_loss: 1.3190e-10\n",
      "Epoch 45/50\n",
      "\u001b[1m1055/1055\u001b[0m \u001b[32m━━━━━━━━━━━━━━━━━━━━\u001b[0m\u001b[37m\u001b[0m \u001b[1m2s\u001b[0m 2ms/step - accuracy: 1.0000 - loss: 1.2297e-10 - val_accuracy: 1.0000 - val_loss: 1.2883e-10\n",
      "Epoch 46/50\n",
      "\u001b[1m1055/1055\u001b[0m \u001b[32m━━━━━━━━━━━━━━━━━━━━\u001b[0m\u001b[37m\u001b[0m \u001b[1m2s\u001b[0m 2ms/step - accuracy: 1.0000 - loss: 1.2385e-10 - val_accuracy: 1.0000 - val_loss: 1.2579e-10\n",
      "Epoch 47/50\n",
      "\u001b[1m1055/1055\u001b[0m \u001b[32m━━━━━━━━━━━━━━━━━━━━\u001b[0m\u001b[37m\u001b[0m \u001b[1m2s\u001b[0m 2ms/step - accuracy: 1.0000 - loss: 1.2528e-10 - val_accuracy: 1.0000 - val_loss: 1.2290e-10\n",
      "Epoch 48/50\n",
      "\u001b[1m1055/1055\u001b[0m \u001b[32m━━━━━━━━━━━━━━━━━━━━\u001b[0m\u001b[37m\u001b[0m \u001b[1m2s\u001b[0m 2ms/step - accuracy: 1.0000 - loss: 1.2426e-10 - val_accuracy: 1.0000 - val_loss: 1.2097e-10\n",
      "Epoch 49/50\n",
      "\u001b[1m1055/1055\u001b[0m \u001b[32m━━━━━━━━━━━━━━━━━━━━\u001b[0m\u001b[37m\u001b[0m \u001b[1m2s\u001b[0m 2ms/step - accuracy: 1.0000 - loss: 1.1756e-10 - val_accuracy: 1.0000 - val_loss: 1.1910e-10\n",
      "Epoch 50/50\n",
      "\u001b[1m1055/1055\u001b[0m \u001b[32m━━━━━━━━━━━━━━━━━━━━\u001b[0m\u001b[37m\u001b[0m \u001b[1m2s\u001b[0m 2ms/step - accuracy: 1.0000 - loss: 1.2017e-10 - val_accuracy: 1.0000 - val_loss: 1.1780e-10\n",
      "Restoring model weights from the end of the best epoch: 50.\n"
     ]
    }
   ],
   "source": [
    "history=model.fit(X_train_scaled,y_train,epochs=50,validation_split=0.2,callbacks=[early_stop])"
   ]
  },
  {
   "cell_type": "code",
   "execution_count": 25,
   "id": "aed7b565",
   "metadata": {
    "execution": {
     "iopub.execute_input": "2025-07-08T17:31:59.689594Z",
     "iopub.status.busy": "2025-07-08T17:31:59.689281Z",
     "iopub.status.idle": "2025-07-08T17:32:00.318671Z",
     "shell.execute_reply": "2025-07-08T17:32:00.317755Z"
    },
    "papermill": {
     "duration": 0.727463,
     "end_time": "2025-07-08T17:32:00.320437",
     "exception": false,
     "start_time": "2025-07-08T17:31:59.592974",
     "status": "completed"
    },
    "tags": []
   },
   "outputs": [
    {
     "name": "stdout",
     "output_type": "stream",
     "text": [
      "\u001b[1m330/330\u001b[0m \u001b[32m━━━━━━━━━━━━━━━━━━━━\u001b[0m\u001b[37m\u001b[0m \u001b[1m0s\u001b[0m 1ms/step\n"
     ]
    }
   ],
   "source": [
    "y_log=model.predict(X_test_scaled)\n",
    "y_pred=np.where(y_log>0.5,1,0)"
   ]
  },
  {
   "cell_type": "code",
   "execution_count": 26,
   "id": "4e0cb201",
   "metadata": {
    "execution": {
     "iopub.execute_input": "2025-07-08T17:32:00.512991Z",
     "iopub.status.busy": "2025-07-08T17:32:00.512638Z",
     "iopub.status.idle": "2025-07-08T17:32:00.521099Z",
     "shell.execute_reply": "2025-07-08T17:32:00.520068Z"
    },
    "papermill": {
     "duration": 0.105697,
     "end_time": "2025-07-08T17:32:00.522541",
     "exception": false,
     "start_time": "2025-07-08T17:32:00.416844",
     "status": "completed"
    },
    "tags": []
   },
   "outputs": [
    {
     "data": {
      "text/plain": [
       "1.0"
      ]
     },
     "execution_count": 26,
     "metadata": {},
     "output_type": "execute_result"
    }
   ],
   "source": [
    "from sklearn.metrics import accuracy_score\n",
    "accuracy_score(y_test,y_pred)"
   ]
  },
  {
   "cell_type": "code",
   "execution_count": 27,
   "id": "e493dbdc",
   "metadata": {
    "execution": {
     "iopub.execute_input": "2025-07-08T17:32:00.715481Z",
     "iopub.status.busy": "2025-07-08T17:32:00.715174Z",
     "iopub.status.idle": "2025-07-08T17:32:00.723870Z",
     "shell.execute_reply": "2025-07-08T17:32:00.722881Z"
    },
    "papermill": {
     "duration": 0.106527,
     "end_time": "2025-07-08T17:32:00.725452",
     "exception": false,
     "start_time": "2025-07-08T17:32:00.618925",
     "status": "completed"
    },
    "tags": []
   },
   "outputs": [
    {
     "data": {
      "text/plain": [
       "Type\n",
       "0    5293\n",
       "1    5248\n",
       "Name: count, dtype: int64"
      ]
     },
     "execution_count": 27,
     "metadata": {},
     "output_type": "execute_result"
    }
   ],
   "source": [
    "y_test.value_counts()"
   ]
  },
  {
   "cell_type": "code",
   "execution_count": 28,
   "id": "973b84ef",
   "metadata": {
    "execution": {
     "iopub.execute_input": "2025-07-08T17:32:00.918008Z",
     "iopub.status.busy": "2025-07-08T17:32:00.917278Z",
     "iopub.status.idle": "2025-07-08T17:32:00.926836Z",
     "shell.execute_reply": "2025-07-08T17:32:00.925905Z"
    },
    "papermill": {
     "duration": 0.107238,
     "end_time": "2025-07-08T17:32:00.928345",
     "exception": false,
     "start_time": "2025-07-08T17:32:00.821107",
     "status": "completed"
    },
    "tags": []
   },
   "outputs": [
    {
     "name": "stdout",
     "output_type": "stream",
     "text": [
      "[[5293    0]\n",
      " [   0 5248]]\n"
     ]
    }
   ],
   "source": [
    "from sklearn.metrics import confusion_matrix\n",
    "print(confusion_matrix(y_test, y_pred))\n"
   ]
  },
  {
   "cell_type": "code",
   "execution_count": 29,
   "id": "260af1af",
   "metadata": {
    "execution": {
     "iopub.execute_input": "2025-07-08T17:32:01.122109Z",
     "iopub.status.busy": "2025-07-08T17:32:01.121760Z",
     "iopub.status.idle": "2025-07-08T17:32:01.149127Z",
     "shell.execute_reply": "2025-07-08T17:32:01.148029Z"
    },
    "papermill": {
     "duration": 0.125536,
     "end_time": "2025-07-08T17:32:01.150576",
     "exception": false,
     "start_time": "2025-07-08T17:32:01.025040",
     "status": "completed"
    },
    "tags": []
   },
   "outputs": [
    {
     "name": "stdout",
     "output_type": "stream",
     "text": [
      "              precision    recall  f1-score   support\n",
      "\n",
      "           0       1.00      1.00      1.00      5293\n",
      "           1       1.00      1.00      1.00      5248\n",
      "\n",
      "    accuracy                           1.00     10541\n",
      "   macro avg       1.00      1.00      1.00     10541\n",
      "weighted avg       1.00      1.00      1.00     10541\n",
      "\n"
     ]
    }
   ],
   "source": [
    "from sklearn.metrics import classification_report\n",
    "print(classification_report(y_test, y_pred))"
   ]
  },
  {
   "cell_type": "code",
   "execution_count": null,
   "id": "9173782a",
   "metadata": {
    "papermill": {
     "duration": 0.095615,
     "end_time": "2025-07-08T17:32:01.341572",
     "exception": false,
     "start_time": "2025-07-08T17:32:01.245957",
     "status": "completed"
    },
    "tags": []
   },
   "outputs": [],
   "source": []
  }
 ],
 "metadata": {
  "kaggle": {
   "accelerator": "none",
   "dataSources": [
    {
     "datasetId": 7710064,
     "sourceId": 12236665,
     "sourceType": "datasetVersion"
    }
   ],
   "dockerImageVersionId": 31040,
   "isGpuEnabled": false,
   "isInternetEnabled": false,
   "language": "python",
   "sourceType": "notebook"
  },
  "kernelspec": {
   "display_name": "Python 3",
   "language": "python",
   "name": "python3"
  },
  "language_info": {
   "codemirror_mode": {
    "name": "ipython",
    "version": 3
   },
   "file_extension": ".py",
   "mimetype": "text/x-python",
   "name": "python",
   "nbconvert_exporter": "python",
   "pygments_lexer": "ipython3",
   "version": "3.11.11"
  },
  "papermill": {
   "default_parameters": {},
   "duration": 141.706428,
   "end_time": "2025-07-08T17:32:04.553851",
   "environment_variables": {},
   "exception": null,
   "input_path": "__notebook__.ipynb",
   "output_path": "__notebook__.ipynb",
   "parameters": {},
   "start_time": "2025-07-08T17:29:42.847423",
   "version": "2.6.0"
  }
 },
 "nbformat": 4,
 "nbformat_minor": 5
}
